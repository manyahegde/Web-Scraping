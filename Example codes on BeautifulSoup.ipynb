{
 "cells": [
  {
   "cell_type": "code",
   "execution_count": 32,
   "id": "e7b8e41b",
   "metadata": {},
   "outputs": [],
   "source": [
    "from bs4 import BeautifulSoup\n",
    "\n",
    "html_content=''' \n",
    "<html>\n",
    "<head>\n",
    "<title>Example</title>\n",
    "</head>\n",
    "<body>\n",
    "    <p class=\"paragraph\">This is a paragraph.</p>\n",
    "    <p class=\"paragraph\">This is a paragraph 2.</p>\n",
    "    <ul>\n",
    "        <li>Item 1</li>\n",
    "        <li>Item 2</li>\n",
    "    </ul>\n",
    "</body>\n",
    "</html>'''"
   ]
  },
  {
   "cell_type": "code",
   "execution_count": 33,
   "id": "b91f3483",
   "metadata": {},
   "outputs": [],
   "source": [
    "#creating an instance of BeautifulSoup\n",
    "soup=BeautifulSoup(html_content,'html.parser')"
   ]
  },
  {
   "cell_type": "code",
   "execution_count": 34,
   "id": "66f59faa",
   "metadata": {},
   "outputs": [
    {
     "data": {
      "text/plain": [
       "'Example'"
      ]
     },
     "execution_count": 34,
     "metadata": {},
     "output_type": "execute_result"
    }
   ],
   "source": [
    "#to access the title\n",
    "title=soup.title.text\n",
    "title"
   ]
  },
  {
   "cell_type": "code",
   "execution_count": 35,
   "id": "c5d905a2",
   "metadata": {},
   "outputs": [
    {
     "data": {
      "text/plain": [
       "'This is a paragraph.'"
      ]
     },
     "execution_count": 35,
     "metadata": {},
     "output_type": "execute_result"
    }
   ],
   "source": [
    "#to access the paragraph content\n",
    "para=soup.p.text\n",
    "para #this returns the content of first p tag"
   ]
  },
  {
   "cell_type": "markdown",
   "id": "f66be7ef",
   "metadata": {},
   "source": [
    "#### Tag Navigation"
   ]
  },
  {
   "cell_type": "code",
   "execution_count": 36,
   "id": "a61d6172",
   "metadata": {},
   "outputs": [
    {
     "data": {
      "text/plain": [
       "<p class=\"paragraph\">This is a paragraph.</p>"
      ]
     },
     "execution_count": 36,
     "metadata": {},
     "output_type": "execute_result"
    }
   ],
   "source": [
    "para=soup.find('p')\n",
    "para"
   ]
  },
  {
   "cell_type": "code",
   "execution_count": 37,
   "id": "6a86f67d",
   "metadata": {},
   "outputs": [
    {
     "data": {
      "text/plain": [
       "[<p class=\"paragraph\">This is a paragraph.</p>,\n",
       " <p class=\"paragraph\">This is a paragraph 2.</p>]"
      ]
     },
     "execution_count": 37,
     "metadata": {},
     "output_type": "execute_result"
    }
   ],
   "source": [
    "#to get all p tags:\n",
    "paragraphs=soup.find_all('p')\n",
    "paragraphs"
   ]
  },
  {
   "cell_type": "code",
   "execution_count": 38,
   "id": "8fdeaf7b",
   "metadata": {},
   "outputs": [
    {
     "name": "stdout",
     "output_type": "stream",
     "text": [
      "This is a paragraph.\n",
      "This is a paragraph 2.\n"
     ]
    }
   ],
   "source": [
    "#to print all p tags content only\n",
    "for i in paragraphs:\n",
    "    print(i.text)"
   ]
  },
  {
   "cell_type": "markdown",
   "id": "e8f80ccb",
   "metadata": {},
   "source": [
    "#### Parent and sibling navigation"
   ]
  },
  {
   "cell_type": "code",
   "execution_count": 53,
   "id": "193ebc80",
   "metadata": {},
   "outputs": [],
   "source": [
    "\n",
    "html_doc=''' \n",
    "<html>\n",
    "<body>\n",
    "    <div class='my_class'>\n",
    "        <h1>Welcome to BeautifulSoup</h1>\n",
    "        <p>This is an example paragraph</p>\n",
    "        <ul>\n",
    "            <li>Item1</li>\n",
    "            <li>Item2</li>\n",
    "        </ul>\n",
    "    </div>\n",
    "</body>\n",
    "</html>\n",
    "'''"
   ]
  },
  {
   "cell_type": "code",
   "execution_count": 54,
   "id": "022be015",
   "metadata": {},
   "outputs": [
    {
     "name": "stdout",
     "output_type": "stream",
     "text": [
      "Parent element of <h1>:\n",
      "<div class=\"my_class\">\n",
      "<h1>Welcome to BeautifulSoup</h1>\n",
      "<p>This is an example paragraph</p>\n",
      "<ul>\n",
      "<li>Item1</li>\n",
      "<li>Item2</li>\n",
      "</ul>\n",
      "</div>\n"
     ]
    }
   ],
   "source": [
    "soup=BeautifulSoup(html_doc,'html.parser')\n",
    "\n",
    "#accessing parent element\n",
    "h1=soup.h1\n",
    "parent_div=h1.parent\n",
    "print(\"Parent element of <h1>:\")\n",
    "print(parent_div)"
   ]
  },
  {
   "cell_type": "code",
   "execution_count": 55,
   "id": "45ed23a3",
   "metadata": {},
   "outputs": [
    {
     "name": "stdout",
     "output_type": "stream",
     "text": [
      "previous sibling of <p>:\n",
      "<h1>Welcome to BeautifulSoup</h1>\n"
     ]
    }
   ],
   "source": [
    "#accessing previous sibling element\n",
    "paragraph=soup.p\n",
    "previous_sibling=paragraph.find_previous_sibling()\n",
    "print('previous sibling of <p>:')\n",
    "print(previous_sibling)"
   ]
  },
  {
   "cell_type": "code",
   "execution_count": 56,
   "id": "9e858562",
   "metadata": {},
   "outputs": [
    {
     "name": "stdout",
     "output_type": "stream",
     "text": [
      "next sibling of <ul>:\n",
      "None\n"
     ]
    }
   ],
   "source": [
    "#accessing next sibling element\n",
    "ul=soup.ul\n",
    "next_sibling=ul.find_next_sibling()\n",
    "print('next sibling of <ul>:')\n",
    "print(next_sibling)"
   ]
  },
  {
   "cell_type": "markdown",
   "id": "010f93e1",
   "metadata": {},
   "source": [
    "#### Child Navigation"
   ]
  },
  {
   "cell_type": "code",
   "execution_count": 57,
   "id": "b6f9542f",
   "metadata": {},
   "outputs": [
    {
     "name": "stdout",
     "output_type": "stream",
     "text": [
      "child elements of <div>:\n",
      "\n",
      "\n",
      "<h1>Welcome to BeautifulSoup</h1>\n",
      "\n",
      "\n",
      "<p>This is an example paragraph</p>\n",
      "\n",
      "\n",
      "<ul>\n",
      "<li>Item1</li>\n",
      "<li>Item2</li>\n",
      "</ul>\n",
      "\n",
      "\n"
     ]
    }
   ],
   "source": [
    "#accessing child elements\n",
    "div=soup.div\n",
    "children=div.children\n",
    "\n",
    "print('child elements of <div>:')\n",
    "for child in children:\n",
    "    print(child)"
   ]
  },
  {
   "cell_type": "markdown",
   "id": "ea360a84",
   "metadata": {},
   "source": [
    "#### Searching by CSS and class attributes"
   ]
  },
  {
   "cell_type": "code",
   "execution_count": 59,
   "id": "164b4cee",
   "metadata": {},
   "outputs": [
    {
     "data": {
      "text/plain": [
       "[<div class=\"my_class\">\n",
       " <h1>Welcome to BeautifulSoup</h1>\n",
       " <p>This is an example paragraph</p>\n",
       " <ul>\n",
       " <li>Item1</li>\n",
       " <li>Item2</li>\n",
       " </ul>\n",
       " </div>]"
      ]
     },
     "execution_count": 59,
     "metadata": {},
     "output_type": "execute_result"
    }
   ],
   "source": [
    "#searching by css and class attributes\n",
    "elements=soup.find_all('div',class_='my_class')\n",
    "elements"
   ]
  }
 ],
 "metadata": {
  "kernelspec": {
   "display_name": "Python 3 (ipykernel)",
   "language": "python",
   "name": "python3"
  },
  "language_info": {
   "codemirror_mode": {
    "name": "ipython",
    "version": 3
   },
   "file_extension": ".py",
   "mimetype": "text/x-python",
   "name": "python",
   "nbconvert_exporter": "python",
   "pygments_lexer": "ipython3",
   "version": "3.9.12"
  }
 },
 "nbformat": 4,
 "nbformat_minor": 5
}
