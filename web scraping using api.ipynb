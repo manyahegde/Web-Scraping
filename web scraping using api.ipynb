{
 "cells": [
  {
   "cell_type": "code",
   "execution_count": 7,
   "id": "1d6daa90",
   "metadata": {},
   "outputs": [],
   "source": [
    "from bs4 import BeautifulSoup\n",
    "import csv\n",
    "from datetime import datetime, timedelta\n",
    "import requests"
   ]
  },
  {
   "cell_type": "code",
   "execution_count": 4,
   "id": "59f128d1",
   "metadata": {},
   "outputs": [],
   "source": [
    "def get_weather_data(api_key, city, start_date, end_date):\n",
    "    base_url='http://api.weatherapi.com/v1/history.json?key={api_key}&q={city}&dt={start_date}&end_dt={end_date}'\n",
    "    response=requests.get(base_url)\n",
    "    data=response.json()\n",
    "    \n",
    "    if 'error' in data:\n",
    "        print(f\"error occured:{data['error']['message']}\")\n",
    "    else:\n",
    "        forecast_days=data['forecast']['forecastday']\n",
    "        for day in forecast_days:\n",
    "            date=day['date']\n",
    "            temperature=day['day']['avgtemp_c']\n",
    "            humidity=day['day']['avghumidity']\n",
    "            weather_description=day['day']['condition']['text']\n",
    "            \n",
    "            with open('weather.csv', mode='a',newline='') as file:\n",
    "                writer=csv.writer(file)\n",
    "                writer.writerow([date,temperature,humidity,weather_description])"
   ]
  },
  {
   "cell_type": "code",
   "execution_count": 8,
   "id": "99907a4a",
   "metadata": {},
   "outputs": [
    {
     "name": "stdout",
     "output_type": "stream",
     "text": [
      "error occured:API key has been disabled.\n"
     ]
    }
   ],
   "source": [
    "api_key='3b8dbc613f1a41b4af084632232006'\n",
    "\n",
    "city='karkala'\n",
    "\n",
    "end_date=datetime.now().strftime('%Y-%M-%D')\n",
    "start_date=(datetime.now() - timedelta(days=30)).strftime('%Y-%M-%D')\n",
    "get_weather_data(api_key, city, start_date, end_date)"
   ]
  },
  {
   "cell_type": "code",
   "execution_count": null,
   "id": "f5aecb7a",
   "metadata": {},
   "outputs": [],
   "source": []
  }
 ],
 "metadata": {
  "kernelspec": {
   "display_name": "Python 3 (ipykernel)",
   "language": "python",
   "name": "python3"
  },
  "language_info": {
   "codemirror_mode": {
    "name": "ipython",
    "version": 3
   },
   "file_extension": ".py",
   "mimetype": "text/x-python",
   "name": "python",
   "nbconvert_exporter": "python",
   "pygments_lexer": "ipython3",
   "version": "3.9.16"
  }
 },
 "nbformat": 4,
 "nbformat_minor": 5
}
