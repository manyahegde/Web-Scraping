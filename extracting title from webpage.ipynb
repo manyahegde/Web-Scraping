{
 "cells": [
  {
   "cell_type": "code",
   "execution_count": 24,
   "id": "17fd26cb",
   "metadata": {},
   "outputs": [],
   "source": [
    "import requests\n",
    "from bs4 import BeautifulSoup"
   ]
  },
  {
   "cell_type": "code",
   "execution_count": 31,
   "id": "04669617",
   "metadata": {},
   "outputs": [],
   "source": [
    "# Example 1: Extract a Website Title\n",
    "url = \"https://www.github.com\"\n",
    "\n",
    "# Request for the website from url and store it as a response\n",
    "response = requests.get(url)\n",
    "\n",
    "# parse the html using bs4 (here default html parser is used)\n",
    "soup = BeautifulSoup(response.text, \"html.parser\")\n"
   ]
  },
  {
   "cell_type": "code",
   "execution_count": 32,
   "id": "c838ac82",
   "metadata": {},
   "outputs": [
    {
     "name": "stdout",
     "output_type": "stream",
     "text": [
      "GitHub: Let’s build from here · GitHub\n"
     ]
    }
   ],
   "source": [
    "title = soup.find(\"title\").text  # assigns the text content of the <title> tag\n",
    "print(title)"
   ]
  },
  {
   "cell_type": "code",
   "execution_count": 33,
   "id": "cede1ddb",
   "metadata": {},
   "outputs": [
    {
     "name": "stdout",
     "output_type": "stream",
     "text": [
      "\n",
      "          Let’s build from here\n",
      "        \n"
     ]
    }
   ],
   "source": [
    "text = soup.find(\"h1\").text\n",
    "print(text)"
   ]
  }
 ],
 "metadata": {
  "kernelspec": {
   "display_name": "Python 3 (ipykernel)",
   "language": "python",
   "name": "python3"
  },
  "language_info": {
   "codemirror_mode": {
    "name": "ipython",
    "version": 3
   },
   "file_extension": ".py",
   "mimetype": "text/x-python",
   "name": "python",
   "nbconvert_exporter": "python",
   "pygments_lexer": "ipython3",
   "version": "3.9.12"
  }
 },
 "nbformat": 4,
 "nbformat_minor": 5
}
