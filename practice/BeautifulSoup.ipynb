{
 "cells": [
  {
   "cell_type": "code",
   "execution_count": 2,
   "id": "4a74055a",
   "metadata": {},
   "outputs": [],
   "source": [
    "from bs4 import BeautifulSoup"
   ]
  },
  {
   "cell_type": "code",
   "execution_count": 3,
   "id": "b1d3b0ef",
   "metadata": {},
   "outputs": [],
   "source": [
    "html_content='''\n",
    "<html>\n",
    "    <head>\n",
    "        <title>Web Scraping</title>\n",
    "    </head>\n",
    "    <body>\n",
    "        <p>BeautifulSoup</p>\n",
    "        <p>Scrapy</p>\n",
    "        <p>Selenium</p>\n",
    "        <ul>\n",
    "            <li>program1</li>\n",
    "            <li>program2</li>\n",
    "            <li>program3</li>\n",
    "        </ul>\n",
    "    </body>\n",
    "</html>'''"
   ]
  },
  {
   "cell_type": "code",
   "execution_count": 5,
   "id": "eb9971ad",
   "metadata": {},
   "outputs": [],
   "source": [
    "# parse the html content\n",
    "soup = BeautifulSoup(html_content,'html.parser')"
   ]
  },
  {
   "cell_type": "code",
   "execution_count": 9,
   "id": "5f0b5c8e",
   "metadata": {},
   "outputs": [
    {
     "data": {
      "text/plain": [
       "'Web Scraping'"
      ]
     },
     "execution_count": 9,
     "metadata": {},
     "output_type": "execute_result"
    }
   ],
   "source": [
    "# to extract the title of the html content\n",
    "title = soup.title\n",
    "title.text"
   ]
  },
  {
   "cell_type": "code",
   "execution_count": 10,
   "id": "f4bb6fe8",
   "metadata": {},
   "outputs": [
    {
     "data": {
      "text/plain": [
       "'BeautifulSoup'"
      ]
     },
     "execution_count": 10,
     "metadata": {},
     "output_type": "execute_result"
    }
   ],
   "source": [
    "# to extract the first paragraph of the html content\n",
    "para = soup.p\n",
    "para.text"
   ]
  },
  {
   "cell_type": "code",
   "execution_count": 12,
   "id": "179647d3",
   "metadata": {},
   "outputs": [
    {
     "name": "stdout",
     "output_type": "stream",
     "text": [
      "BeautifulSoup\n",
      "Scrapy\n",
      "Selenium\n"
     ]
    }
   ],
   "source": [
    "# to extract all paragraphs of the html content\n",
    "paras = soup.find_all('p')\n",
    "for p in paras:\n",
    "    print(p.text)"
   ]
  },
  {
   "cell_type": "code",
   "execution_count": 13,
   "id": "dbfce30c",
   "metadata": {},
   "outputs": [],
   "source": [
    "# to get only the first 2 paragraphs\n",
    "paragraphs2 = soup.find_all('p', limit =2)"
   ]
  },
  {
   "cell_type": "code",
   "execution_count": 14,
   "id": "60155854",
   "metadata": {},
   "outputs": [
    {
     "data": {
      "text/plain": [
       "[<p>BeautifulSoup</p>, <p>Scrapy</p>]"
      ]
     },
     "execution_count": 14,
     "metadata": {},
     "output_type": "execute_result"
    }
   ],
   "source": [
    "paragraphs2"
   ]
  },
  {
   "cell_type": "code",
   "execution_count": 16,
   "id": "2d48be5f",
   "metadata": {},
   "outputs": [
    {
     "data": {
      "text/plain": [
       "<li>program1</li>"
      ]
     },
     "execution_count": 16,
     "metadata": {},
     "output_type": "execute_result"
    }
   ],
   "source": [
    "# to find the first li element\n",
    "li = soup.find('li')\n",
    "li"
   ]
  },
  {
   "cell_type": "code",
   "execution_count": 18,
   "id": "0738fdb9",
   "metadata": {},
   "outputs": [
    {
     "data": {
      "text/plain": [
       "<body>\n",
       "<p>BeautifulSoup</p>\n",
       "<p>Scrapy</p>\n",
       "<p>Selenium</p>\n",
       "<ul>\n",
       "<li>program1</li>\n",
       "<li>program2</li>\n",
       "<li>program3</li>\n",
       "</ul>\n",
       "</body>"
      ]
     },
     "execution_count": 18,
     "metadata": {},
     "output_type": "execute_result"
    }
   ],
   "source": [
    "#parent of p tag\n",
    "parent_element_p=p.parent\n",
    "parent_element_p"
   ]
  },
  {
   "cell_type": "code",
   "execution_count": 32,
   "id": "434ac325",
   "metadata": {},
   "outputs": [
    {
     "data": {
      "text/plain": [
       "<p>Scrapy</p>"
      ]
     },
     "execution_count": 32,
     "metadata": {},
     "output_type": "execute_result"
    }
   ],
   "source": [
    "# next sibling of p tag\n",
    "par = soup.p\n",
    "next_sibling_p = par.find_next_sibling()\n",
    "next_sibling_p"
   ]
  },
  {
   "cell_type": "code",
   "execution_count": 36,
   "id": "3db2f496",
   "metadata": {},
   "outputs": [
    {
     "name": "stdout",
     "output_type": "stream",
     "text": [
      "<p>Selenium</p>\n"
     ]
    }
   ],
   "source": [
    "# find previous sibling of ul\n",
    "ul = soup.ul\n",
    "previous_sibling_ul = ul.find_previous_sibling()\n",
    "print(previous_sibling_ul)"
   ]
  },
  {
   "cell_type": "code",
   "execution_count": 39,
   "id": "7d83d234",
   "metadata": {},
   "outputs": [
    {
     "name": "stdout",
     "output_type": "stream",
     "text": [
      "\n",
      "\n",
      "<li>program1</li>\n",
      "\n",
      "\n",
      "<li>program2</li>\n",
      "\n",
      "\n",
      "<li>program3</li>\n",
      "\n",
      "\n"
     ]
    }
   ],
   "source": [
    "#to find the children of ul\n",
    "ul = soup.ul\n",
    "ul_children = ul.children\n",
    "for child in ul_children:\n",
    "    print(child)"
   ]
  },
  {
   "cell_type": "code",
   "execution_count": 54,
   "id": "f8330d59",
   "metadata": {},
   "outputs": [],
   "source": [
    "html_content2 = '''\n",
    "<html>\n",
    "    <head></head>\n",
    "    <body>\n",
    "    <div class=\"content\">\n",
    "    <p class='para1'>name</p>\n",
    "    <p class='para2'>aiml</p>\n",
    "    <p class='para1'>manya hegde</p>\n",
    "    </div>\n",
    "    </body>\n",
    "</html>'''"
   ]
  },
  {
   "cell_type": "code",
   "execution_count": 59,
   "id": "71df3ef8",
   "metadata": {},
   "outputs": [
    {
     "data": {
      "text/plain": [
       "[<p class=\"para1\">name</p>, <p class=\"para1\">manya hegde</p>]"
      ]
     },
     "execution_count": 59,
     "metadata": {},
     "output_type": "execute_result"
    }
   ],
   "source": [
    "soup=BeautifulSoup(html_content2,'html.parser')\n",
    "\n",
    "#searching by css and class attributes\n",
    "element=soup.find_all('p',class_='para1')\n",
    "element"
   ]
  },
  {
   "cell_type": "code",
   "execution_count": 61,
   "id": "2cffea0f",
   "metadata": {},
   "outputs": [
    {
     "data": {
      "text/plain": [
       "[<div class=\"content\">\n",
       " <p class=\"para1\">name</p>\n",
       " <p class=\"para2\">aiml</p>\n",
       " <p class=\"para1\">manya hegde</p>\n",
       " </div>]"
      ]
     },
     "execution_count": 61,
     "metadata": {},
     "output_type": "execute_result"
    }
   ],
   "source": [
    "element2=soup.find_all(class_='content')\n",
    "element2"
   ]
  },
  {
   "cell_type": "code",
   "execution_count": 63,
   "id": "669788c6",
   "metadata": {},
   "outputs": [
    {
     "name": "stdout",
     "output_type": "stream",
     "text": [
      "None\n"
     ]
    }
   ],
   "source": [
    "link=soup.find('a')\n",
    "print(link)"
   ]
  },
  {
   "cell_type": "code",
   "execution_count": null,
   "id": "541056e6",
   "metadata": {},
   "outputs": [],
   "source": []
  }
 ],
 "metadata": {
  "kernelspec": {
   "display_name": "Python 3 (ipykernel)",
   "language": "python",
   "name": "python3"
  },
  "language_info": {
   "codemirror_mode": {
    "name": "ipython",
    "version": 3
   },
   "file_extension": ".py",
   "mimetype": "text/x-python",
   "name": "python",
   "nbconvert_exporter": "python",
   "pygments_lexer": "ipython3",
   "version": "3.9.16"
  }
 },
 "nbformat": 4,
 "nbformat_minor": 5
}
